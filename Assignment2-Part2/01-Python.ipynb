{
 "cells": [
  {
   "cell_type": "code",
   "execution_count": 3,
   "id": "c6d3f57b-672d-4e17-b7e0-c57cca9a1c31",
   "metadata": {},
   "outputs": [],
   "source": [
    "# Variables\n",
    "a=3"
   ]
  },
  {
   "cell_type": "code",
   "execution_count": 4,
   "id": "a5f98e11-b138-4743-a68d-7fb578f1d77f",
   "metadata": {},
   "outputs": [
    {
     "data": {
      "text/plain": [
       "3"
      ]
     },
     "execution_count": 4,
     "metadata": {},
     "output_type": "execute_result"
    }
   ],
   "source": [
    "a"
   ]
  },
  {
   "cell_type": "code",
   "execution_count": 5,
   "id": "22f332ff-8a14-4dbb-a627-1d25243d895c",
   "metadata": {},
   "outputs": [],
   "source": [
    "b = 17\n",
    "c = 10"
   ]
  },
  {
   "cell_type": "code",
   "execution_count": 6,
   "id": "a8038f13-9976-41ce-b4f2-498f992aca54",
   "metadata": {},
   "outputs": [
    {
     "data": {
      "text/plain": [
       "170"
      ]
     },
     "execution_count": 6,
     "metadata": {},
     "output_type": "execute_result"
    }
   ],
   "source": [
    "b * c"
   ]
  },
  {
   "cell_type": "code",
   "execution_count": 7,
   "id": "47c3bd8c-eebb-4552-bf8e-e5a9bb707e3b",
   "metadata": {},
   "outputs": [
    {
     "data": {
      "text/plain": [
       "170"
      ]
     },
     "execution_count": 7,
     "metadata": {},
     "output_type": "execute_result"
    }
   ],
   "source": [
    "# storing the above data in a variable for later use\n",
    "d = b*c\n",
    "d"
   ]
  },
  {
   "cell_type": "code",
   "execution_count": 8,
   "id": "1b2337af-0464-414b-ad29-9c482fa0f6de",
   "metadata": {},
   "outputs": [],
   "source": [
    "# Even if the value of b is changed d won't change\n",
    "# Since d is a purely numerical and not a mathematical function\n",
    "b = 0"
   ]
  },
  {
   "cell_type": "code",
   "execution_count": 9,
   "id": "6a0831da-5839-4b28-b469-6474c8ef4da4",
   "metadata": {},
   "outputs": [
    {
     "data": {
      "text/plain": [
       "170"
      ]
     },
     "execution_count": 9,
     "metadata": {},
     "output_type": "execute_result"
    }
   ],
   "source": [
    "d"
   ]
  },
  {
   "cell_type": "code",
   "execution_count": 10,
   "id": "8969406a-358a-46a7-95ec-a5da96ffa704",
   "metadata": {},
   "outputs": [
    {
     "data": {
      "text/plain": [
       "0"
      ]
     },
     "execution_count": 10,
     "metadata": {},
     "output_type": "execute_result"
    }
   ],
   "source": [
    "# To assign the new value of d we would have to rerun the operation\n",
    "d = b*c\n",
    "d"
   ]
  },
  {
   "cell_type": "code",
   "execution_count": 11,
   "id": "d4f7d0e2-e7e8-44a9-b062-37f67a9ccde6",
   "metadata": {},
   "outputs": [
    {
     "data": {
      "text/plain": [
       "'This is a sample text'"
      ]
     },
     "execution_count": 11,
     "metadata": {},
     "output_type": "execute_result"
    }
   ],
   "source": [
    "# Other type of variable, text\n",
    "text = \"This is a sample text\"\n",
    "text"
   ]
  },
  {
   "cell_type": "code",
   "execution_count": 12,
   "id": "1c42a794-881c-454f-b2f3-5271e250da08",
   "metadata": {},
   "outputs": [
    {
     "data": {
      "text/plain": [
       "[1, 2, 3, 4]"
      ]
     },
     "execution_count": 12,
     "metadata": {},
     "output_type": "execute_result"
    }
   ],
   "source": [
    "# A list\n",
    "lst = [1, 2, 3, 4]\n",
    "lst"
   ]
  },
  {
   "cell_type": "code",
   "execution_count": 13,
   "id": "82574fa9-92db-4063-bf89-b975ed806773",
   "metadata": {},
   "outputs": [],
   "source": [
    "# A function allows us to perform an operation on n number of variables\n",
    "# user defined function\n",
    "def func(x, a, b):\n",
    "    out = x*a + b\n",
    "    return out"
   ]
  },
  {
   "cell_type": "code",
   "execution_count": 14,
   "id": "aa865fc1-9f01-4ef2-9795-ccc4e2e5551a",
   "metadata": {},
   "outputs": [
    {
     "data": {
      "text/plain": [
       "5"
      ]
     },
     "execution_count": 14,
     "metadata": {},
     "output_type": "execute_result"
    }
   ],
   "source": [
    "func(1, 2, 3)"
   ]
  },
  {
   "cell_type": "code",
   "execution_count": 15,
   "id": "adb9389d-dce4-4468-b643-2f016f40c242",
   "metadata": {},
   "outputs": [
    {
     "data": {
      "text/plain": [
       "17"
      ]
     },
     "execution_count": 15,
     "metadata": {},
     "output_type": "execute_result"
    }
   ],
   "source": [
    "# predefined function\n",
    "string = \"My name is Saanvi\"\n",
    "len(string) # total number of characters in a string"
   ]
  },
  {
   "cell_type": "code",
   "execution_count": 16,
   "id": "31703f3a-bd5d-4f33-8008-9d799c473447",
   "metadata": {},
   "outputs": [],
   "source": [
    "# Variables as objects\n",
    "# 1. Function: That modify the variable in some way. ex: .tolower(), .toupper()\n",
    "# 2. Properties: That display a feature of the variable. ex: .real, .imag"
   ]
  },
  {
   "cell_type": "code",
   "execution_count": 17,
   "id": "a7665a79-94c7-4a46-b74f-667de9524cd9",
   "metadata": {},
   "outputs": [
    {
     "data": {
      "text/plain": [
       "'my name is saanvi'"
      ]
     },
     "execution_count": 17,
     "metadata": {},
     "output_type": "execute_result"
    }
   ],
   "source": [
    "string.lower()"
   ]
  },
  {
   "cell_type": "code",
   "execution_count": 18,
   "id": "0c38dca4-ada7-4ba9-a7b2-39f7ce5d8ac9",
   "metadata": {},
   "outputs": [
    {
     "data": {
      "text/plain": [
       "'MY NAME IS SAANVI'"
      ]
     },
     "execution_count": 18,
     "metadata": {},
     "output_type": "execute_result"
    }
   ],
   "source": [
    "string.upper()"
   ]
  },
  {
   "cell_type": "code",
   "execution_count": 19,
   "id": "cf45e1e8-bc63-4dc4-be5a-8e449d4a51aa",
   "metadata": {},
   "outputs": [
    {
     "data": {
      "text/plain": [
       "1.0"
      ]
     },
     "execution_count": 19,
     "metadata": {},
     "output_type": "execute_result"
    }
   ],
   "source": [
    "num = 1 + 2j\n",
    "num.real"
   ]
  },
  {
   "cell_type": "code",
   "execution_count": 20,
   "id": "00f441a0-1a8e-4543-b50b-b3200cdb7241",
   "metadata": {},
   "outputs": [
    {
     "data": {
      "text/plain": [
       "2.0"
      ]
     },
     "execution_count": 20,
     "metadata": {},
     "output_type": "execute_result"
    }
   ],
   "source": [
    "num.imag"
   ]
  },
  {
   "cell_type": "code",
   "execution_count": 21,
   "id": "1b2d4b6d-6072-4e40-a151-a0017f3eca10",
   "metadata": {},
   "outputs": [],
   "source": [
    "# External Packages"
   ]
  },
  {
   "cell_type": "code",
   "execution_count": 22,
   "id": "34adb6d6-35d4-4799-b313-5a15adb7af7b",
   "metadata": {},
   "outputs": [
    {
     "name": "stdout",
     "output_type": "stream",
     "text": [
      "Requirement already satisfied: scikit-image in c:\\python312\\lib\\site-packages (0.24.0)\n",
      "Requirement already satisfied: numpy>=1.23 in c:\\python312\\lib\\site-packages (from scikit-image) (1.26.4)\n",
      "Requirement already satisfied: scipy>=1.9 in c:\\python312\\lib\\site-packages (from scikit-image) (1.14.0)\n",
      "Requirement already satisfied: networkx>=2.8 in c:\\python312\\lib\\site-packages (from scikit-image) (3.3)\n",
      "Requirement already satisfied: pillow>=9.1 in c:\\python312\\lib\\site-packages (from scikit-image) (10.4.0)\n",
      "Requirement already satisfied: imageio>=2.33 in c:\\python312\\lib\\site-packages (from scikit-image) (2.34.2)\n",
      "Requirement already satisfied: tifffile>=2022.8.12 in c:\\python312\\lib\\site-packages (from scikit-image) (2024.7.24)\n",
      "Requirement already satisfied: packaging>=21 in c:\\python312\\lib\\site-packages (from scikit-image) (24.1)\n",
      "Requirement already satisfied: lazy-loader>=0.4 in c:\\python312\\lib\\site-packages (from scikit-image) (0.4)\n",
      "Note: you may need to restart the kernel to use updated packages.\n"
     ]
    }
   ],
   "source": [
    "pip install scikit-image"
   ]
  },
  {
   "cell_type": "code",
   "execution_count": 23,
   "id": "dc20742d-085b-410c-b439-63e572f96e03",
   "metadata": {},
   "outputs": [],
   "source": [
    "import skimage as sk"
   ]
  },
  {
   "cell_type": "code",
   "execution_count": 24,
   "id": "2501a002-093e-47b8-8c20-432feb9b36cd",
   "metadata": {},
   "outputs": [],
   "source": [
    "from skimage.filters import median"
   ]
  },
  {
   "cell_type": "code",
   "execution_count": 25,
   "id": "507d387c-7f25-440b-87f1-cbead1f08dca",
   "metadata": {},
   "outputs": [
    {
     "data": {
      "text/plain": [
       "[[4, 8, 7], [6, 4, 3], [5, 3, 7]]"
      ]
     },
     "execution_count": 25,
     "metadata": {},
     "output_type": "execute_result"
    }
   ],
   "source": [
    "# hard-coding an example image - Lists\n",
    "my_image = [[4,8,7], [6,4,3], [5,3,7]]\n",
    "my_image"
   ]
  },
  {
   "cell_type": "code",
   "execution_count": 26,
   "id": "e4238bf2-2ef2-4712-bfbe-c99a43433a1d",
   "metadata": {},
   "outputs": [],
   "source": [
    "my_address = 'my-images/Image_1.jpg'"
   ]
  },
  {
   "cell_type": "code",
   "execution_count": 27,
   "id": "8627af40-f081-4baf-be33-bd3304194cb6",
   "metadata": {},
   "outputs": [
    {
     "ename": "NameError",
     "evalue": "name 'skimage' is not defined",
     "output_type": "error",
     "traceback": [
      "\u001b[1;31m---------------------------------------------------------------------------\u001b[0m",
      "\u001b[1;31mNameError\u001b[0m                                 Traceback (most recent call last)",
      "Cell \u001b[1;32mIn[27], line 3\u001b[0m\n\u001b[0;32m      1\u001b[0m \u001b[38;5;66;03m# Representing an image as - Numpy array\u001b[39;00m\n\u001b[0;32m      2\u001b[0m \u001b[38;5;66;03m# Less computationally expensive than traditional Lists\u001b[39;00m\n\u001b[1;32m----> 3\u001b[0m \u001b[43mskimage\u001b[49m\u001b[38;5;241m.\u001b[39mio\u001b[38;5;241m.\u001b[39mimread(my_address)\n",
      "\u001b[1;31mNameError\u001b[0m: name 'skimage' is not defined"
     ]
    }
   ],
   "source": [
    "# Representing an image as - Numpy array\n",
    "# Less computationally expensive than traditional Lists\n",
    "skimage.io.imread(my_address)"
   ]
  },
  {
   "cell_type": "code",
   "execution_count": null,
   "id": "7139de6b-76f0-4bcd-b939-7f07e4fef241",
   "metadata": {},
   "outputs": [],
   "source": [
    "import matplotlib.pyplot as plt\n",
    "image = skimage.io.imread(my_address)"
   ]
  },
  {
   "cell_type": "code",
   "execution_count": null,
   "id": "3f2b75e7-2a26-43a9-9e1f-50b3a6b4bbda",
   "metadata": {},
   "outputs": [],
   "source": [
    "plt.imshow(image)"
   ]
  },
  {
   "cell_type": "code",
   "execution_count": null,
   "id": "a0a0b9b8-8e68-400c-9f6b-fc24106ce484",
   "metadata": {},
   "outputs": [],
   "source": []
  }
 ],
 "metadata": {
  "kernelspec": {
   "display_name": "Python 3 (ipykernel)",
   "language": "python",
   "name": "python3"
  },
  "language_info": {
   "codemirror_mode": {
    "name": "ipython",
    "version": 3
   },
   "file_extension": ".py",
   "mimetype": "text/x-python",
   "name": "python",
   "nbconvert_exporter": "python",
   "pygments_lexer": "ipython3",
   "version": "3.12.4"
  }
 },
 "nbformat": 4,
 "nbformat_minor": 5
}
